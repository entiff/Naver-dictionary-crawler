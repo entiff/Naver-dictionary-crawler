{
 "cells": [
  {
   "cell_type": "markdown",
   "metadata": {},
   "source": [
    "# Naver Dictionary Crawling"
   ]
  },
  {
   "cell_type": "markdown",
   "metadata": {},
   "source": [
    "Module Needed"
   ]
  },
  {
   "cell_type": "code",
   "execution_count": 13,
   "metadata": {
    "ExecuteTime": {
     "end_time": "2018-10-28T11:10:35.413640Z",
     "start_time": "2018-10-28T11:10:35.410664Z"
    }
   },
   "outputs": [],
   "source": [
    "import os\n",
    "import pandas as pd\n",
    "import requests\n",
    "from bs4 import BeautifulSoup\n",
    "\n",
    "os.chdir(\"C:/Users/test/desktop\")"
   ]
  },
  {
   "cell_type": "markdown",
   "metadata": {},
   "source": [
    "Core Code"
   ]
  },
  {
   "cell_type": "code",
   "execution_count": 23,
   "metadata": {
    "ExecuteTime": {
     "end_time": "2018-10-28T11:13:07.450309Z",
     "start_time": "2018-10-28T11:13:03.720738Z"
    }
   },
   "outputs": [
    {
     "name": "stdout",
     "output_type": "stream",
     "text": [
      "word: hi\n",
      "pages: 1\n",
      "title: hi\n"
     ]
    }
   ],
   "source": [
    "want_word = input(\"word: \")\n",
    "want_page = int(input(\"pages: \"))\n",
    "want_title = input(\"title: \") + \".xlsx\"\n",
    "eng_list = []    \n",
    "source_list = []\n",
    "korea_list = []\n",
    "for i in range(1, want_page + 1):\n",
    "    req = requests.get('http://endic.naver.com/search_example.nhn?sLn=kr&examType=example&query=' + str(want_word) + '&pageNo=' +str(i))\n",
    "    html = req.text\n",
    "    soup = BeautifulSoup(html, 'html.parser')\n",
    "\n",
    "    total_package = soup.select(\"li.utb\")\n",
    "    \n",
    "    for i in total_package:\n",
    "        if i.find('a', class_= 'user_ts'):\n",
    "            print('fuck that')\n",
    "            pass\n",
    "        else:\n",
    "            english= i.find(\n",
    "                'span', class_='_ttsText'\n",
    "            )\n",
    "            source = i.find(\n",
    "                'a', class_='source'\n",
    "            )\n",
    "            korea = i.find(\n",
    "                'a', class_= 'N=a:xmp.detail'\n",
    "            )\n",
    "            \n",
    "        eng_list.append(english.text)\n",
    "        if source == None:\n",
    "            source_list.append(\"Can't find the source\")\n",
    "        else:\n",
    "            source_list.append(source.text)\n",
    "        korea_list.append(korea.text)"
   ]
  },
  {
   "cell_type": "code",
   "execution_count": 19,
   "metadata": {
    "ExecuteTime": {
     "end_time": "2018-10-28T11:12:31.024066Z",
     "start_time": "2018-10-28T11:12:31.016643Z"
    }
   },
   "outputs": [],
   "source": [
    "df = pd.DataFrame({'English Sentence':eng_list,\n",
    "                   'Korean': korea_list, \n",
    "                   'Source': source_list})\n",
    "df = df.drop_duplicates(['English Sentence'], keep = 'first')"
   ]
  },
  {
   "cell_type": "code",
   "execution_count": 22,
   "metadata": {
    "ExecuteTime": {
     "end_time": "2018-10-28T11:12:39.622188Z",
     "start_time": "2018-10-28T11:12:39.362685Z"
    }
   },
   "outputs": [],
   "source": [
    "df.to_excel(want_title, sheet_name = 'sheet1')"
   ]
  },
  {
   "cell_type": "code",
   "execution_count": null,
   "metadata": {},
   "outputs": [],
   "source": []
  }
 ],
 "metadata": {
  "kernelspec": {
   "display_name": "Python 3",
   "language": "python",
   "name": "python3"
  },
  "language_info": {
   "codemirror_mode": {
    "name": "ipython",
    "version": 3
   },
   "file_extension": ".py",
   "mimetype": "text/x-python",
   "name": "python",
   "nbconvert_exporter": "python",
   "pygments_lexer": "ipython3",
   "version": "3.6.5"
  },
  "latex_envs": {
   "LaTeX_envs_menu_present": true,
   "autoclose": false,
   "autocomplete": true,
   "bibliofile": "biblio.bib",
   "cite_by": "apalike",
   "current_citInitial": 1,
   "eqLabelWithNumbers": true,
   "eqNumInitial": 1,
   "hotkeys": {
    "equation": "Ctrl-E",
    "itemize": "Ctrl-I"
   },
   "labels_anchors": false,
   "latex_user_defs": false,
   "report_style_numbering": false,
   "user_envs_cfg": false
  },
  "toc": {
   "base_numbering": 1,
   "nav_menu": {},
   "number_sections": true,
   "sideBar": true,
   "skip_h1_title": false,
   "title_cell": "Table of Contents",
   "title_sidebar": "Contents",
   "toc_cell": false,
   "toc_position": {},
   "toc_section_display": true,
   "toc_window_display": false
  },
  "varInspector": {
   "cols": {
    "lenName": 16,
    "lenType": 16,
    "lenVar": 40
   },
   "kernels_config": {
    "python": {
     "delete_cmd_postfix": "",
     "delete_cmd_prefix": "del ",
     "library": "var_list.py",
     "varRefreshCmd": "print(var_dic_list())"
    },
    "r": {
     "delete_cmd_postfix": ") ",
     "delete_cmd_prefix": "rm(",
     "library": "var_list.r",
     "varRefreshCmd": "cat(var_dic_list()) "
    }
   },
   "types_to_exclude": [
    "module",
    "function",
    "builtin_function_or_method",
    "instance",
    "_Feature"
   ],
   "window_display": false
  }
 },
 "nbformat": 4,
 "nbformat_minor": 2
}
