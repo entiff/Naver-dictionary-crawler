{
 "cells": [
  {
   "cell_type": "markdown",
   "metadata": {},
   "source": [
    "# Naver Dictionary Crawling"
   ]
  },
  {
   "cell_type": "markdown",
   "metadata": {},
   "source": [
    "Module Needed"
   ]
  },
  {
   "cell_type": "code",
   "execution_count": 2,
   "metadata": {
    "ExecuteTime": {
     "end_time": "2018-10-04T01:15:39.469612Z",
     "start_time": "2018-10-04T01:15:39.464627Z"
    }
   },
   "outputs": [],
   "source": [
    "#필요한 모듈\n",
    "import os\n",
    "import pandas as pd\n",
    "import requests\n",
    "from bs4 import BeautifulSoup\n",
    "\n",
    "os.chdir(\"C:/Users/test/desktop\")"
   ]
  },
  {
   "cell_type": "markdown",
   "metadata": {},
   "source": [
    "Core Code"
   ]
  },
  {
   "cell_type": "code",
   "execution_count": 3,
   "metadata": {
    "ExecuteTime": {
     "end_time": "2018-10-04T01:15:59.373932Z",
     "start_time": "2018-10-04T01:15:42.620745Z"
    }
   },
   "outputs": [
    {
     "name": "stdout",
     "output_type": "stream",
     "text": [
      "네이버 영어사전 크롤러.made by zani\n",
      "원하는 단어를 입력하세요: make\n",
      "원하는 페이지 수를 입력하세요(페이지 수를 미리 알아두세요): 1\n",
      "원하는 파일의 이름을 입력하세요: verb make\n"
     ]
    }
   ],
   "source": [
    "print(\"네이버 영어사전 크롤러.made by zani\")\n",
    "want_word = input(\"원하는 단어를 입력하세요: \")\n",
    "want_page = int(input(\"원하는 페이지 수를 입력하세요(페이지 수를 미리 알아두세요): \"))\n",
    "want_filename = input(\"원하는 파일의 이름을 입력하세요: \")\n",
    "eng_list = []    \n",
    "source_list = []\n",
    "korea_list = []\n",
    "for i in range(1, want_page + 1):\n",
    "    req = requests.get('http://endic.naver.com/search_example.nhn?sLn=kr&examType=example&query=' + str(want_word) + '&pageNo=' +str(i))\n",
    "    html = req.text\n",
    "    soup = BeautifulSoup(html, 'html.parser')\n",
    "\n",
    "    total_package = soup.select(\"li.utb\")\n",
    "    \n",
    "    for i in total_package:\n",
    "        if i.find('a', class_= 'user_ts'):\n",
    "            print('fuck that')\n",
    "            pass\n",
    "        else:\n",
    "            english= i.find(\n",
    "                'span', class_='_ttsText'\n",
    "            )\n",
    "            source = i.find(\n",
    "                'a', class_='source'\n",
    "            )\n",
    "            korea = i.find(\n",
    "                'a', class_= 'N=a:xmp.detail'\n",
    "            )\n",
    "            \n",
    "        eng_list.append(english.text)\n",
    "        if source == None:\n",
    "            source_list.append(\"Can't find the source\")\n",
    "        else:\n",
    "            source_list.append(source.text)\n",
    "        korea_list.append(korea.text)"
   ]
  },
  {
   "cell_type": "code",
   "execution_count": 4,
   "metadata": {
    "ExecuteTime": {
     "end_time": "2018-10-04T01:16:03.494901Z",
     "start_time": "2018-10-04T01:16:03.479938Z"
    }
   },
   "outputs": [],
   "source": [
    "df = pd.DataFrame({'English Sentence':eng_list,\n",
    "                   'Korean': korea_list, \n",
    "                   'Source': source_list})\n",
    "df = df.drop_duplicates(['English Sentence'], keep = 'first')"
   ]
  },
  {
   "cell_type": "code",
   "execution_count": 5,
   "metadata": {
    "ExecuteTime": {
     "end_time": "2018-10-04T01:16:05.389140Z",
     "start_time": "2018-10-04T01:16:05.358223Z"
    }
   },
   "outputs": [
    {
     "data": {
      "text/html": [
       "<div>\n",
       "<style scoped>\n",
       "    .dataframe tbody tr th:only-of-type {\n",
       "        vertical-align: middle;\n",
       "    }\n",
       "\n",
       "    .dataframe tbody tr th {\n",
       "        vertical-align: top;\n",
       "    }\n",
       "\n",
       "    .dataframe thead th {\n",
       "        text-align: right;\n",
       "    }\n",
       "</style>\n",
       "<table border=\"1\" class=\"dataframe\">\n",
       "  <thead>\n",
       "    <tr style=\"text-align: right;\">\n",
       "      <th></th>\n",
       "      <th>English Sentence</th>\n",
       "      <th>Korean</th>\n",
       "      <th>Source</th>\n",
       "    </tr>\n",
       "  </thead>\n",
       "  <tbody>\n",
       "    <tr>\n",
       "      <th>0</th>\n",
       "      <td>make a thing a matter [question] of conscience</td>\n",
       "      <td>무엇을 양심에 관한 문제로 돌리다[양심적으로 처리하다].</td>\n",
       "      <td>출처:프렌딕</td>\n",
       "    </tr>\n",
       "    <tr>\n",
       "      <th>1</th>\n",
       "      <td>The make of the house is fine.</td>\n",
       "      <td>저 집의 만듦새가 근사하다</td>\n",
       "      <td>출처:동아 출판</td>\n",
       "    </tr>\n",
       "    <tr>\n",
       "      <th>2</th>\n",
       "      <td>Two coats of paint make the house impervious t...</td>\n",
       "      <td>이중으로 칠을 하여서 이 집은 악천후에도 빗물이 새지 않는다.</td>\n",
       "      <td>출처:능률교육</td>\n",
       "    </tr>\n",
       "    <tr>\n",
       "      <th>3</th>\n",
       "      <td>Please make an end of arguing with each other.</td>\n",
       "      <td>서로 다투는 것은 제발 그만해라.</td>\n",
       "      <td>출처:능률교육</td>\n",
       "    </tr>\n",
       "    <tr>\n",
       "      <th>4</th>\n",
       "      <td>Would you please move along and make room for ...</td>\n",
       "      <td>조금씩 비켜서 이 노인한테 자리를 만들어 주시겠습니까?</td>\n",
       "      <td>출처:능률교육</td>\n",
       "    </tr>\n",
       "    <tr>\n",
       "      <th>5</th>\n",
       "      <td>make a convert of a person</td>\n",
       "      <td>아무를 개종[전향]시키다.</td>\n",
       "      <td>출처:프렌딕</td>\n",
       "    </tr>\n",
       "    <tr>\n",
       "      <th>6</th>\n",
       "      <td>I think you'll make it in 30 minutes.</td>\n",
       "      <td>30분이면 도착할 수 있을 것 같습니다.</td>\n",
       "      <td>출처:능률교육</td>\n",
       "    </tr>\n",
       "    <tr>\n",
       "      <th>7</th>\n",
       "      <td>Do not be quiet and make words!</td>\n",
       "      <td>조용히 있지 말고 말을 해라.</td>\n",
       "      <td>출처:YBM</td>\n",
       "    </tr>\n",
       "    <tr>\n",
       "      <th>8</th>\n",
       "      <td>I will let you know my mind as soon as I make ...</td>\n",
       "      <td>내가 결정을 내리자마자 자네에게 내 마음을 알릴 것이다.</td>\n",
       "      <td>출처:YBM</td>\n",
       "    </tr>\n",
       "    <tr>\n",
       "      <th>9</th>\n",
       "      <td>Don’t say anything until you make your choice.</td>\n",
       "      <td>결정할 때까진 아무 말 하지마!</td>\n",
       "      <td>출처:YBM</td>\n",
       "    </tr>\n",
       "    <tr>\n",
       "      <th>10</th>\n",
       "      <td>As you make your bed, so you must lie upon it.</td>\n",
       "      <td>자기가 뿌린 씨는 자기가 거두어야 한다.</td>\n",
       "      <td>출처:능률교육</td>\n",
       "    </tr>\n",
       "    <tr>\n",
       "      <th>11</th>\n",
       "      <td>I don't care what I make at the beginning.</td>\n",
       "      <td>처음에 얼마를 받던지 상관없습니다.</td>\n",
       "      <td>출처:능률교육</td>\n",
       "    </tr>\n",
       "    <tr>\n",
       "      <th>12</th>\n",
       "      <td>make a written will[one's will]</td>\n",
       "      <td>유언장을 작성하다</td>\n",
       "      <td>출처:프렌딕</td>\n",
       "    </tr>\n",
       "    <tr>\n",
       "      <th>13</th>\n",
       "      <td>I generally make it a rule to be up by 7.</td>\n",
       "      <td>나는 보통 늦어도 7시까지는 기상하는 것을 규칙으로 하고 있어요.</td>\n",
       "      <td>출처:능률교육</td>\n",
       "    </tr>\n",
       "    <tr>\n",
       "      <th>14</th>\n",
       "      <td>make it a condition that …</td>\n",
       "      <td>…임을 (한 가지) 조건으로 하다.</td>\n",
       "      <td>출처:프렌딕</td>\n",
       "    </tr>\n",
       "    <tr>\n",
       "      <th>15</th>\n",
       "      <td>I like you much better without any make-up.</td>\n",
       "      <td>당신은 화장을 안 한 것이 훨씬 더 좋아요.</td>\n",
       "      <td>출처:능률교육</td>\n",
       "    </tr>\n",
       "    <tr>\n",
       "      <th>16</th>\n",
       "      <td>I'm always nervous whenever I make a speech.</td>\n",
       "      <td>나는 연설을 할 때면 몹시 긴장이 되요.</td>\n",
       "      <td>출처:능률교육</td>\n",
       "    </tr>\n",
       "    <tr>\n",
       "      <th>17</th>\n",
       "      <td>I study the chessboard carefully before I make...</td>\n",
       "      <td>나는 말을 옮기기 전에 체스판을 잘 살펴보았다.</td>\n",
       "      <td>출처:능률교육</td>\n",
       "    </tr>\n",
       "    <tr>\n",
       "      <th>18</th>\n",
       "      <td>Make students study in the library.</td>\n",
       "      <td>학생들이 도서관에서 공부하도록 한다.</td>\n",
       "      <td>출처:YBM</td>\n",
       "    </tr>\n",
       "    <tr>\n",
       "      <th>19</th>\n",
       "      <td>The funny play nearly killed me.</td>\n",
       "      <td>나는 그 웃기는 연극을 보고 우스워 죽을 뻔했다(cf. make a person d...</td>\n",
       "      <td>출처:프렌딕</td>\n",
       "    </tr>\n",
       "  </tbody>\n",
       "</table>\n",
       "</div>"
      ],
      "text/plain": [
       "                                     English Sentence  \\\n",
       "0      make a thing a matter [question] of conscience   \n",
       "1                      The make of the house is fine.   \n",
       "2   Two coats of paint make the house impervious t...   \n",
       "3      Please make an end of arguing with each other.   \n",
       "4   Would you please move along and make room for ...   \n",
       "5                          make a convert of a person   \n",
       "6               I think you'll make it in 30 minutes.   \n",
       "7                     Do not be quiet and make words!   \n",
       "8   I will let you know my mind as soon as I make ...   \n",
       "9      Don’t say anything until you make your choice.   \n",
       "10     As you make your bed, so you must lie upon it.   \n",
       "11         I don't care what I make at the beginning.   \n",
       "12                    make a written will[one's will]   \n",
       "13          I generally make it a rule to be up by 7.   \n",
       "14                         make it a condition that …   \n",
       "15        I like you much better without any make-up.   \n",
       "16       I'm always nervous whenever I make a speech.   \n",
       "17  I study the chessboard carefully before I make...   \n",
       "18                Make students study in the library.   \n",
       "19                   The funny play nearly killed me.   \n",
       "\n",
       "                                               Korean    Source  \n",
       "0                     무엇을 양심에 관한 문제로 돌리다[양심적으로 처리하다].    출처:프렌딕  \n",
       "1                                      저 집의 만듦새가 근사하다  출처:동아 출판  \n",
       "2                  이중으로 칠을 하여서 이 집은 악천후에도 빗물이 새지 않는다.   출처:능률교육  \n",
       "3                                  서로 다투는 것은 제발 그만해라.   출처:능률교육  \n",
       "4                      조금씩 비켜서 이 노인한테 자리를 만들어 주시겠습니까?   출처:능률교육  \n",
       "5                                      아무를 개종[전향]시키다.    출처:프렌딕  \n",
       "6                              30분이면 도착할 수 있을 것 같습니다.   출처:능률교육  \n",
       "7                                    조용히 있지 말고 말을 해라.    출처:YBM  \n",
       "8                     내가 결정을 내리자마자 자네에게 내 마음을 알릴 것이다.    출처:YBM  \n",
       "9                                   결정할 때까진 아무 말 하지마!    출처:YBM  \n",
       "10                             자기가 뿌린 씨는 자기가 거두어야 한다.   출처:능률교육  \n",
       "11                                처음에 얼마를 받던지 상관없습니다.   출처:능률교육  \n",
       "12                                          유언장을 작성하다    출처:프렌딕  \n",
       "13               나는 보통 늦어도 7시까지는 기상하는 것을 규칙으로 하고 있어요.   출처:능률교육  \n",
       "14                                …임을 (한 가지) 조건으로 하다.    출처:프렌딕  \n",
       "15                           당신은 화장을 안 한 것이 훨씬 더 좋아요.   출처:능률교육  \n",
       "16                             나는 연설을 할 때면 몹시 긴장이 되요.   출처:능률교육  \n",
       "17                         나는 말을 옮기기 전에 체스판을 잘 살펴보았다.   출처:능률교육  \n",
       "18                               학생들이 도서관에서 공부하도록 한다.    출처:YBM  \n",
       "19  나는 그 웃기는 연극을 보고 우스워 죽을 뻔했다(cf. make a person d...    출처:프렌딕  "
      ]
     },
     "execution_count": 5,
     "metadata": {},
     "output_type": "execute_result"
    }
   ],
   "source": [
    "df"
   ]
  },
  {
   "cell_type": "code",
   "execution_count": 77,
   "metadata": {},
   "outputs": [],
   "source": [
    "df.to_excel('dic_example.xlsx', sheet_name = 'sheet1')"
   ]
  }
 ],
 "metadata": {
  "kernelspec": {
   "display_name": "Python 3",
   "language": "python",
   "name": "python3"
  },
  "language_info": {
   "codemirror_mode": {
    "name": "ipython",
    "version": 3
   },
   "file_extension": ".py",
   "mimetype": "text/x-python",
   "name": "python",
   "nbconvert_exporter": "python",
   "pygments_lexer": "ipython3",
   "version": "3.6.5"
  },
  "latex_envs": {
   "LaTeX_envs_menu_present": true,
   "autoclose": false,
   "autocomplete": true,
   "bibliofile": "biblio.bib",
   "cite_by": "apalike",
   "current_citInitial": 1,
   "eqLabelWithNumbers": true,
   "eqNumInitial": 1,
   "hotkeys": {
    "equation": "Ctrl-E",
    "itemize": "Ctrl-I"
   },
   "labels_anchors": false,
   "latex_user_defs": false,
   "report_style_numbering": false,
   "user_envs_cfg": false
  },
  "toc": {
   "base_numbering": 1,
   "nav_menu": {},
   "number_sections": true,
   "sideBar": true,
   "skip_h1_title": false,
   "title_cell": "Table of Contents",
   "title_sidebar": "Contents",
   "toc_cell": false,
   "toc_position": {},
   "toc_section_display": true,
   "toc_window_display": false
  },
  "varInspector": {
   "cols": {
    "lenName": 16,
    "lenType": 16,
    "lenVar": 40
   },
   "kernels_config": {
    "python": {
     "delete_cmd_postfix": "",
     "delete_cmd_prefix": "del ",
     "library": "var_list.py",
     "varRefreshCmd": "print(var_dic_list())"
    },
    "r": {
     "delete_cmd_postfix": ") ",
     "delete_cmd_prefix": "rm(",
     "library": "var_list.r",
     "varRefreshCmd": "cat(var_dic_list()) "
    }
   },
   "types_to_exclude": [
    "module",
    "function",
    "builtin_function_or_method",
    "instance",
    "_Feature"
   ],
   "window_display": false
  }
 },
 "nbformat": 4,
 "nbformat_minor": 2
}
